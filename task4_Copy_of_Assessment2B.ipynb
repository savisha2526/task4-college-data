{
  "cells": [
    {
      "cell_type": "markdown",
      "metadata": {
        "id": "view-in-github",
        "colab_type": "text"
      },
      "source": [
        "<a href=\"https://colab.research.google.com/github/savisha2526/task4-college-data/blob/main/task4_Copy_of_Assessment2B.ipynb\" target=\"_parent\"><img src=\"https://colab.research.google.com/assets/colab-badge.svg\" alt=\"Open In Colab\"/></a>"
      ]
    },
    {
      "cell_type": "markdown",
      "metadata": {
        "id": "z2dnmr8u46xh"
      },
      "source": [
        "###### Assessment"
      ]
    },
    {
      "cell_type": "markdown",
      "metadata": {
        "id": "B8MMbHp746xt"
      },
      "source": [
        "###### I am going to provide two .csv files , you are supposed to work on them and have to provide solutions to the following problems"
      ]
    },
    {
      "cell_type": "markdown",
      "metadata": {
        "id": "WynLZnaz46xv"
      },
      "source": [
        "###### import necessary libraries"
      ]
    },
    {
      "cell_type": "code",
      "execution_count": 1,
      "metadata": {
        "id": "aKgHtC1H46xw"
      },
      "outputs": [],
      "source": [
        "import pandas as pd"
      ]
    },
    {
      "cell_type": "markdown",
      "metadata": {
        "id": "i0Og7V7446xy"
      },
      "source": [
        "###### merge those two csv files (after getting as dataframes, get them as a single dataframe)"
      ]
    },
    {
      "cell_type": "code",
      "execution_count": 2,
      "metadata": {
        "id": "FIbasiWK46xz",
        "colab": {
          "base_uri": "https://localhost:8080/"
        },
        "outputId": "8b041fd9-024c-4add-9353-52cc58b52f1c"
      },
      "outputs": [
        {
          "output_type": "stream",
          "name": "stdout",
          "text": [
            "              Name  python  mysql  Previous_Geekions  CodeKata_Score  \\\n",
            "0        A.Dharani    82.0   20.0              24500           24500   \n",
            "1      V.JEEVITHA     82.0   20.0              21740           21740   \n",
            "2      HEMAVATHI.R   100.0  100.0              19680           19680   \n",
            "3      Mugunthan S   100.0   47.0              10610           10610   \n",
            "4      Sathammai.S   100.0    8.0               8980            8980   \n",
            "..             ...     ...    ...                ...             ...   \n",
            "114  praveen raj j    24.0    0.0               2380            2380   \n",
            "115     AMARNATH D    -1.0   12.0               1890            1890   \n",
            "116           bala    32.0    0.0               1720            1720   \n",
            "117           XY Z    -1.0   -1.0                  0               0   \n",
            "118      Hariharan    -1.0   -1.0                  0               0   \n",
            "\n",
            "                                    Department  Rising  python_en  \\\n",
            "0             Computer Science and Engineering       0        NaN   \n",
            "1             Computer Science and Engineering       0        NaN   \n",
            "2             Computer Science and Engineering       0        NaN   \n",
            "3             Computer Science and Engineering       0        NaN   \n",
            "4             Computer Science and Engineering       0        NaN   \n",
            "..                                         ...     ...        ...   \n",
            "114           Computer Science and Engineering       0       -1.0   \n",
            "115  Electronics and Communication Engineering       0       52.0   \n",
            "116  Electronics and Communication Engineering       0       49.0   \n",
            "117           Computer Science and Engineering       0       20.0   \n",
            "118           Computer Science and Engineering       0       -1.0   \n",
            "\n",
            "     computational_thinking  \n",
            "0                       NaN  \n",
            "1                       NaN  \n",
            "2                       NaN  \n",
            "3                       NaN  \n",
            "4                       NaN  \n",
            "..                      ...  \n",
            "114                     0.0  \n",
            "115                    -1.0  \n",
            "116                    -1.0  \n",
            "117                    -1.0  \n",
            "118                     0.0  \n",
            "\n",
            "[119 rows x 9 columns]\n"
          ]
        },
        {
          "output_type": "stream",
          "name": "stderr",
          "text": [
            "/usr/local/lib/python3.7/dist-packages/pandas/core/reshape/merge.py:1208: UserWarning: You are merging on int and float columns where the float values are not equal to their int representation\n",
            "  UserWarning,\n"
          ]
        }
      ],
      "source": [
        "df1 = pd.read_csv(\"college_1.csv\")\n",
        "df2 = pd.read_csv(\"college_2.csv\")\n",
        "df = df1.merge(df2, how='outer')\n",
        "print(df)\n"
      ]
    },
    {
      "cell_type": "markdown",
      "metadata": {
        "id": "xnT3qD8n46x0"
      },
      "source": [
        "###### Take each csv file , split that csv file into multiple categories (example csv files are added in the repo) \n"
      ]
    },
    {
      "cell_type": "markdown",
      "metadata": {
        "id": "NrYUPBog46x1"
      },
      "source": [
        "###### consider if the codekata score exceeds 15000 points(present week) then make a csv on those observations as Exceeded expectations.csv\n"
      ]
    },
    {
      "cell_type": "code",
      "source": [
        "print(df[df['CodeKata_Score']>15000])"
      ],
      "metadata": {
        "colab": {
          "base_uri": "https://localhost:8080/"
        },
        "id": "ZKVLLbV4eWN7",
        "outputId": "5b18ac98-e9a2-48e2-8d74-1445a63424fa"
      },
      "execution_count": null,
      "outputs": [
        {
          "output_type": "stream",
          "name": "stdout",
          "text": [
            "             Name  python  mysql  Previous_Geekions  CodeKata_Score  \\\n",
            "0       A.Dharani    82.0   20.0              24500           24500   \n",
            "1     V.JEEVITHA     82.0   20.0              21740           21740   \n",
            "2     HEMAVATHI.R   100.0  100.0              19680           19680   \n",
            "84  ASHOK KUMAR K   100.0   31.0              19400           19400   \n",
            "\n",
            "                                Department  Rising  python_en  \\\n",
            "0         Computer Science and Engineering       0        NaN   \n",
            "1         Computer Science and Engineering       0        NaN   \n",
            "2         Computer Science and Engineering       0        NaN   \n",
            "84  Electronics and Electrical Engineering       0        0.0   \n",
            "\n",
            "    computational_thinking  \n",
            "0                      NaN  \n",
            "1                      NaN  \n",
            "2                      NaN  \n",
            "84                     9.0  \n"
          ]
        }
      ]
    },
    {
      "cell_type": "markdown",
      "metadata": {
        "id": "gxfpF_-b46x3"
      },
      "source": [
        "###### if  10000<codekata score<15000   (Reached_expectations.csv)\n",
        "\n"
      ]
    },
    {
      "cell_type": "code",
      "source": [
        "print(df[(df['CodeKata_Score']>10000) & (df['CodeKata_Score']<15000)])"
      ],
      "metadata": {
        "colab": {
          "base_uri": "https://localhost:8080/"
        },
        "id": "EVvRZsjuereZ",
        "outputId": "49120975-527a-46e0-afaf-40f67daa25aa"
      },
      "execution_count": null,
      "outputs": [
        {
          "output_type": "stream",
          "name": "stdout",
          "text": [
            "                 Name  python  mysql  Previous_Geekions  CodeKata_Score  \\\n",
            "3         Mugunthan S   100.0   47.0              10610           10610   \n",
            "85            Chandru     0.0    0.0              14150           14490   \n",
            "86  Ganesh Ramkumar R    -1.0   24.0               8790           10790   \n",
            "87    Bodipudi Harini    -1.0   35.0              10040           10040   \n",
            "\n",
            "                                   Department  Rising  python_en  \\\n",
            "3            Computer Science and Engineering       0        NaN   \n",
            "85           Computer Science and Engineering     340       20.0   \n",
            "86           Computer Science and Engineering    2000       55.0   \n",
            "87  Electronics and Communication Engineering       0        0.0   \n",
            "\n",
            "    computational_thinking  \n",
            "3                      NaN  \n",
            "85                     0.0  \n",
            "86                     6.0  \n",
            "87                    -1.0  \n"
          ]
        }
      ]
    },
    {
      "cell_type": "markdown",
      "metadata": {
        "id": "onHtQwnQ46x4"
      },
      "source": [
        "###### if  7000<codekata score<10000   (Needs_Improvement.csv)\n"
      ]
    },
    {
      "cell_type": "code",
      "source": [
        "print(df[(df['CodeKata_Score']>7000) & (df['CodeKata_Score']<10000)])"
      ],
      "metadata": {
        "colab": {
          "base_uri": "https://localhost:8080/"
        },
        "id": "RwKOowmXgmnT",
        "outputId": "ff48c717-e9d6-456d-e713-7cda8c4bf0e0"
      },
      "execution_count": null,
      "outputs": [
        {
          "output_type": "stream",
          "name": "stdout",
          "text": [
            "                       Name  python  mysql  Previous_Geekions  CodeKata_Score  \\\n",
            "4               Sathammai.S   100.0    8.0               8980            8980   \n",
            "5              NIVEESHWAR S   100.0    0.0               8200            8200   \n",
            "6             KALAIARASAN K    85.0   47.0               7750            7880   \n",
            "7      MOHAMED ZUBAIR AHMED    82.0    4.0               7020            7020   \n",
            "88                VIINU V P    -1.0   24.0               9150            9150   \n",
            "89               Poojitha Y     0.0   35.0               7210            8970   \n",
            "90   Gowtham Chandrasekaran    -1.0    0.0               7250            8950   \n",
            "91                Gowtham R    -1.0    4.0               8650            8650   \n",
            "92                 shifak N    58.0    0.0               5180            8320   \n",
            "93                  Balaji     -1.0   20.0               6170            8160   \n",
            "94                 Rushitha    -1.0   62.0               7470            8090   \n",
            "95     Balaraman Muthupandi    -1.0    0.0               7670            8050   \n",
            "96                 JPradhap   100.0    0.0               7340            8030   \n",
            "97            SRIRAMKUMAR B    -1.0    0.0               6400            7940   \n",
            "98                Praneetha    -1.0  100.0               7170            7730   \n",
            "99              Rahul Raj K    -1.0    0.0               6280            7640   \n",
            "100                 Guhan S    -1.0   35.0               7310            7630   \n",
            "101            Suryarajan S    -1.0   31.0               6710            7550   \n",
            "\n",
            "                                    Department  Rising  python_en  \\\n",
            "4             Computer Science and Engineering       0        NaN   \n",
            "5             Computer Science and Engineering       0        NaN   \n",
            "6    Electronics and Communication Engineering     130        NaN   \n",
            "7             Computer Science and Engineering       0        NaN   \n",
            "88      Electronics and Electrical Engineering       0      100.0   \n",
            "89            Computer Science and Engineering    1760       78.0   \n",
            "90            Computer Science and Engineering    1700        0.0   \n",
            "91   Electronics and Communication Engineering       0       60.0   \n",
            "92      Electronics and Electrical Engineering    3140        0.0   \n",
            "93      Electronics and Electrical Engineering    1990      100.0   \n",
            "94            Computer Science and Engineering     620       15.0   \n",
            "95            Computer Science and Engineering     380        9.0   \n",
            "96      Electronics and Electrical Engineering     690        0.0   \n",
            "97            Computer Science and Engineering    1540        0.0   \n",
            "98   Electronics and Communication Engineering     560       23.0   \n",
            "99            Computer Science and Engineering    1360        0.0   \n",
            "100  Electronics and Communication Engineering     320       72.0   \n",
            "101           Computer Science and Engineering     840       63.0   \n",
            "\n",
            "     computational_thinking  \n",
            "4                       NaN  \n",
            "5                       NaN  \n",
            "6                       NaN  \n",
            "7                       NaN  \n",
            "88                     -1.0  \n",
            "89                      0.0  \n",
            "90                      3.0  \n",
            "91                      6.0  \n",
            "92                      0.0  \n",
            "93                      0.0  \n",
            "94                      9.0  \n",
            "95                      0.0  \n",
            "96                      0.0  \n",
            "97                      0.0  \n",
            "98                     -1.0  \n",
            "99                      0.0  \n",
            "100                    39.0  \n",
            "101                     0.0  \n"
          ]
        }
      ]
    },
    {
      "cell_type": "markdown",
      "metadata": {
        "id": "0tV3UwRK46x5"
      },
      "source": [
        "###### if  codekate score < 7000        (Unsatisfactory.csv)"
      ]
    },
    {
      "cell_type": "code",
      "execution_count": null,
      "metadata": {
        "id": "wywLqT-x46x6",
        "colab": {
          "base_uri": "https://localhost:8080/"
        },
        "outputId": "2638f4b9-fce3-40c2-e567-3f316c85018b"
      },
      "outputs": [
        {
          "output_type": "stream",
          "name": "stdout",
          "text": [
            "                Name  python  mysql  Previous_Geekions  CodeKata_Score  \\\n",
            "8         J.SUGANTHI    27.0  50.00               5860            5860   \n",
            "9       thamizhpaana    29.0   0.00               5500            5500   \n",
            "10   Iyappan Samiraj    50.0  24.00               5400            5400   \n",
            "11      Ponniyamma.R   100.0  11.25               5380            5380   \n",
            "12         SABAPATHI   100.0   0.00               5280            5280   \n",
            "..               ...     ...    ...                ...             ...   \n",
            "114    praveen raj j    24.0   0.00               2380            2380   \n",
            "115       AMARNATH D    -1.0  12.00               1890            1890   \n",
            "116             bala    32.0   0.00               1720            1720   \n",
            "117             XY Z    -1.0  -1.00                  0               0   \n",
            "118        Hariharan    -1.0  -1.00                  0               0   \n",
            "\n",
            "                                    Department  Rising  python_en  \\\n",
            "8    Electronics and Communication Engineering       0        NaN   \n",
            "9             Computer Science and Engineering       0        NaN   \n",
            "10   Electronics and Communication Engineering       0        NaN   \n",
            "11            Computer Science and Engineering       0        NaN   \n",
            "12            Computer Science and Engineering       0        NaN   \n",
            "..                                         ...     ...        ...   \n",
            "114           Computer Science and Engineering       0       -1.0   \n",
            "115  Electronics and Communication Engineering       0       52.0   \n",
            "116  Electronics and Communication Engineering       0       49.0   \n",
            "117           Computer Science and Engineering       0       20.0   \n",
            "118           Computer Science and Engineering       0       -1.0   \n",
            "\n",
            "     computational_thinking  \n",
            "8                       NaN  \n",
            "9                       NaN  \n",
            "10                      NaN  \n",
            "11                      NaN  \n",
            "12                      NaN  \n",
            "..                      ...  \n",
            "114                     0.0  \n",
            "115                    -1.0  \n",
            "116                    -1.0  \n",
            "117                    -1.0  \n",
            "118                     0.0  \n",
            "\n",
            "[93 rows x 9 columns]\n"
          ]
        }
      ],
      "source": [
        "print(df[df['CodeKata_Score']<7000 ])"
      ]
    },
    {
      "cell_type": "code",
      "execution_count": null,
      "metadata": {
        "id": "7zL8B9Gr46x7"
      },
      "outputs": [],
      "source": []
    },
    {
      "cell_type": "markdown",
      "metadata": {
        "id": "U131ROGv46x9"
      },
      "source": [
        "###### Average of previous week geekions vs this week geekions (i.e Previous Geekions vs CodeKata Score)"
      ]
    },
    {
      "cell_type": "code",
      "execution_count": null,
      "metadata": {
        "id": "w9qnFTJG46x-",
        "colab": {
          "base_uri": "https://localhost:8080/"
        },
        "outputId": "3a6789b5-ec95-4783-f83e-812f3029c6b8"
      },
      "outputs": [
        {
          "output_type": "stream",
          "name": "stdout",
          "text": [
            "3842.3529411764707\n"
          ]
        }
      ],
      "source": [
        "val = df['Previous_Geekions'].mean()\n",
        "print(val)"
      ]
    },
    {
      "cell_type": "markdown",
      "metadata": {
        "id": "QBUK1Iaj46x_"
      },
      "source": [
        "###### No of students participated "
      ]
    },
    {
      "cell_type": "code",
      "execution_count": null,
      "metadata": {
        "id": "Yj8qpHOr46x_",
        "colab": {
          "base_uri": "https://localhost:8080/"
        },
        "outputId": "c3c087a8-30b9-4144-d0fc-afc97c10a051"
      },
      "outputs": [
        {
          "output_type": "stream",
          "name": "stdout",
          "text": [
            "119\n"
          ]
        }
      ],
      "source": [
        "num_of_student_participated = len(df.index)\n",
        "print(len(df.index))"
      ]
    },
    {
      "cell_type": "markdown",
      "metadata": {
        "id": "vsBiL3-f46yA"
      },
      "source": [
        "###### #Average completion of python course or my_sql or python english or computational thinking"
      ]
    },
    {
      "cell_type": "code",
      "execution_count": null,
      "metadata": {
        "id": "ahvxep-q46yA",
        "colab": {
          "base_uri": "https://localhost:8080/"
        },
        "outputId": "b9c0fae9-08bb-46e6-fc3f-b98e66576ab0"
      },
      "outputs": [
        {
          "output_type": "stream",
          "name": "stdout",
          "text": [
            "54.35294117647059\n"
          ]
        }
      ],
      "source": [
        "#Average completion of python_course\n",
        "\n",
        "val = df['python'].mean()\n",
        "print(val)"
      ]
    },
    {
      "cell_type": "markdown",
      "metadata": {
        "id": "DiqbLPCZ46yB"
      },
      "source": [
        "###### rising star of the week (top 3 candidate who performed well in that particular week)"
      ]
    },
    {
      "cell_type": "code",
      "execution_count": null,
      "metadata": {
        "id": "rWIDjDWo46yC",
        "colab": {
          "base_uri": "https://localhost:8080/"
        },
        "outputId": "b971c44b-8350-4f55-951d-5d60f2a9c7f1"
      },
      "outputs": [
        {
          "output_type": "stream",
          "name": "stdout",
          "text": [
            "(Name                                            manikandan\n",
            "python                                               100.0\n",
            "mysql                                                  0.0\n",
            "Previous_Geekions                                     2360\n",
            "CodeKata_Score                                        2360\n",
            "Department                Computer Science and Engineering\n",
            "Rising                                                   0\n",
            "python_en                                              NaN\n",
            "computational_thinking                                 NaN\n",
            "Name: 30, dtype: object, Name                                               Haasini\n",
            "python                                               100.0\n",
            "mysql                                                  0.0\n",
            "Previous_Geekions                                      300\n",
            "CodeKata_Score                                         300\n",
            "Department                Computer Science and Engineering\n",
            "Rising                                                   0\n",
            "python_en                                              NaN\n",
            "computational_thinking                                 NaN\n",
            "Name: 62, dtype: object, Name                                                vikneshwaran\n",
            "python                                                     100.0\n",
            "mysql                                                        4.0\n",
            "Previous_Geekions                                             40\n",
            "CodeKata_Score                                                40\n",
            "Department                Electronics and Electrical Engineering\n",
            "Rising                                                         0\n",
            "python_en                                                    NaN\n",
            "computational_thinking                                       NaN\n",
            "Name: 78, dtype: object)\n"
          ]
        }
      ],
      "source": [
        "df.sort_values(by=['python'])\n",
        "dff = df.iloc[30],df.iloc[62],df.iloc[78]\n",
        "print(dff)"
      ]
    },
    {
      "cell_type": "markdown",
      "metadata": {
        "id": "3CqHl2xs46yC"
      },
      "source": [
        "###### Shining stars of the week (top 3 candidates who has highest geekions)"
      ]
    },
    {
      "cell_type": "code",
      "execution_count": null,
      "metadata": {
        "id": "TsRCmpVO46yD",
        "colab": {
          "base_uri": "https://localhost:8080/"
        },
        "outputId": "5eb5880f-8857-484b-939c-86df0b7755ce"
      },
      "outputs": [
        {
          "output_type": "stream",
          "name": "stdout",
          "text": [
            "          Name  python  mysql  Previous_Geekions  CodeKata_Score  \\\n",
            "0    A.Dharani    82.0   20.0              24500           24500   \n",
            "1  V.JEEVITHA     82.0   20.0              21740           21740   \n",
            "2  HEMAVATHI.R   100.0  100.0              19680           19680   \n",
            "\n",
            "                         Department  Rising  python_en  computational_thinking  \n",
            "0  Computer Science and Engineering       0        NaN                     NaN  \n",
            "1  Computer Science and Engineering       0        NaN                     NaN  \n",
            "2  Computer Science and Engineering       0        NaN                     NaN  \n"
          ]
        }
      ],
      "source": [
        "df.sort_values(by=['Previous_Geekions'])\n",
        "dff = df.iloc[0:3]\n",
        "print(dff)"
      ]
    },
    {
      "cell_type": "markdown",
      "metadata": {
        "id": "DsXE89mJ46yD"
      },
      "source": [
        "###### Department wise codekata performence (pie chart)"
      ]
    },
    {
      "cell_type": "code",
      "execution_count": null,
      "metadata": {
        "id": "uPPXBXMH46yE",
        "colab": {
          "base_uri": "https://localhost:8080/",
          "height": 248
        },
        "outputId": "ca409b30-c65f-4c19-ab45-62b6d252ae0d"
      },
      "outputs": [
        {
          "output_type": "display_data",
          "data": {
            "text/plain": [
              "<Figure size 432x288 with 1 Axes>"
            ],
            "image/png": "[encoded data removed]"
          },
          "metadata": {}
        }
      ],
      "source": [
        "import pandas as pd\n",
        "from matplotlib.pyplot import pie, axis, show\n",
        "%matplotlib inline\n",
        "\n",
        "\n",
        "\n",
        "sums = df.groupby(df[\"Department\"])[\"CodeKata_Score\"].sum()\n",
        "axis('equal');\n",
        "pie(sums, labels=sums.index);\n",
        "show()"
      ]
    },
    {
      "cell_type": "markdown",
      "metadata": {
        "id": "W9aLCBJD46yF"
      },
      "source": [
        "###### Department wise toppers (horizantal bar graph or any visual representations of your choice)"
      ]
    },
    {
      "cell_type": "code",
      "execution_count": null,
      "metadata": {
        "id": "a0wj_xUg46yG"
      },
      "outputs": [],
      "source": [
        "    "
      ]
    },
    {
      "cell_type": "code",
      "execution_count": null,
      "metadata": {
        "id": "UN-LmLks46yG"
      },
      "outputs": [],
      "source": [
        "dept = df['Department']\n",
        "score = df[\"python\"]\n",
        "i=0\n",
        "if dept.iloc[i]=='Computer Science and Engineering':\n",
        "  a1=(score.max())\n",
        "  #print(a1)\n",
        "  if dept.iloc[i]=='Electronics and Communication Engineering':\n",
        "    b1=(score.max())\n",
        "    print(b1)\n",
        "    if dept.iloc[i]=='Electronics and Electrical Engineering':\n",
        "      a3=(score.max())\n",
        "      print(c1)\n",
        "\n",
        "  "
      ]
    },
    {
      "cell_type": "code",
      "execution_count": null,
      "metadata": {
        "id": "02pq5hr446yH"
      },
      "outputs": [],
      "source": [
        "dept = df['Department']\n",
        "score = df[\"python\"]\n",
        "i=0\n",
        "\n",
        " "
      ]
    },
    {
      "cell_type": "code",
      "execution_count": null,
      "metadata": {
        "id": "xCWpkZzr46yI"
      },
      "outputs": [],
      "source": [
        "dept = df['Department']\n",
        "score = df[\"CodeKata_Score\"]\n",
        "i=0\n",
        "\n",
        "      \n"
      ]
    },
    {
      "cell_type": "code",
      "source": [
        "\n",
        "import matplotlib.pyplot as plt\n",
        "y=['Computer Science and Engineering','Electronics and Communication Engineering','Electronics and Electrical Engineering']\n",
        " \n",
        "# getting values against each value of y\n",
        "x=[a1]\n",
        "plt.barh(y, x)\n",
        " \n",
        "# setting label of y-axis\n",
        "plt.ylabel(\"Department\")\n",
        " \n",
        "# setting label of x-axis\n",
        "plt.xlabel(\"Topper\")\n",
        "plt.title(\"Horizontal bar graph\")\n",
        "plt.show()"
      ],
      "metadata": {
        "colab": {
          "base_uri": "https://localhost:8080/",
          "height": 295
        },
        "id": "uQOPxA7qhxrQ",
        "outputId": "17ceb1fc-c452-4cb1-a03b-262d5d5a6cfc"
      },
      "execution_count": null,
      "outputs": [
        {
          "output_type": "display_data",
          "data": {
            "text/plain": [
              "<Figure size 432x288 with 1 Axes>"
            ],
            "image/png": "[encoded data removed]"
          },
          "metadata": {
            "needs_background": "light"
          }
        }
      ]
    }
  ],
  "metadata": {
    "kernelspec": {
      "display_name": "Python 3",
      "language": "python",
      "name": "python3"
    },
    "language_info": {
      "codemirror_mode": {
        "name": "ipython",
        "version": 3
      },
      "file_extension": ".py",
      "mimetype": "text/x-python",
      "name": "python",
      "nbconvert_exporter": "python",
      "pygments_lexer": "ipython3",
      "version": "3.8.3"
    },
    "colab": {
      "provenance": [],
      "include_colab_link": true
    }
  },
  "nbformat": 4,
  "nbformat_minor": 0
}